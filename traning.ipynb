{
 "cells": [
  {
   "cell_type": "code",
   "execution_count": null,
   "metadata": {},
   "outputs": [],
   "source": [
    "import pandas as pd"
   ]
  },
  {
   "cell_type": "code",
   "execution_count": null,
   "metadata": {},
   "outputs": [],
   "source": [
    "# lettura dei csv di train e test\n",
    "train = pd.read_csv('./train.csv')\n",
    "test= pd.read_csv('./test.csv')\n",
    "data = pd.read_csv('./appointment_data.csv')"
   ]
  },
  {
   "cell_type": "code",
   "execution_count": null,
   "metadata": {
    "tags": []
   },
   "outputs": [],
   "source": [
    "# controllo il tipo delle colonne\n",
    "data.info()"
   ]
  },
  {
   "cell_type": "code",
   "execution_count": null,
   "metadata": {},
   "outputs": [],
   "source": [
    "# controllo se ci sono valori nulli\n",
    "data.isnull().sum()"
   ]
  },
  {
   "cell_type": "code",
   "execution_count": null,
   "metadata": {
    "tags": []
   },
   "outputs": [],
   "source": [
    "# guardo se il numero di pazienti e appuntamenti sono univoci\n",
    "n_patient = data.PatientId.unique()\n",
    "n_appointment = data.AppointmentID.unique()\n",
    "\n",
    "print(len(n_patient))\n",
    "print(len(n_appointment))"
   ]
  },
  {
   "cell_type": "markdown",
   "metadata": {},
   "source": [
    "# Osservazioni sul dataset\n",
    "\n",
    "\n",
    "- patientId: non è unico, ciò significa che un paziente ha prenotato più visite può tornare utile nella classificazione \n",
    "- AppointmentID: ogni appuntamento ha il proprio id ai fini della classificazione ciò non serve perciò in seguito verrà eliminata\n",
    "- ScheduldDay e AppointmentDay: sono date con ore minuti e secondi, guardando la seconda colonna sembra che solo la data sia valida in quanto in 'AppointmentDay' le ore minuti e secondi presentano solo zero (a posteriori la cosa non influisce sulla decisione finale)\n",
    "- Gender e Neighborhood: sono di tipo object e in seguito trasformati in interi attraverso il label encoding\n",
    "- Restanti colonne: sono già mappate come zeri e uno quindi non hanno bisogno di trasformazioni.\n",
    "\n"
   ]
  },
  {
   "cell_type": "code",
   "execution_count": null,
   "metadata": {
    "tags": []
   },
   "outputs": [],
   "source": [
    "# cerco le variabili categoriche presenti nel dataset \n",
    "s=(data.dtypes == 'object')\n",
    "object_cols = list(s[s].index)\n",
    "\n",
    "print (object_cols)"
   ]
  },
  {
   "cell_type": "code",
   "execution_count": null,
   "metadata": {},
   "outputs": [],
   "source": [
    "from sklearn.preprocessing import LabelEncoder\n",
    "\n",
    "# faccio una copia dei dati per non alterarli\n",
    "train_copy = train.copy()\n",
    "test_copy = test.copy()\n",
    "\n",
    "# uso il label encoder per trasformare i valori categorici in numerici\n",
    "encoder = LabelEncoder()\n",
    "for col in object_cols :\n",
    "    train_copy[col] = encoder.fit_transform(train[col])\n",
    "    test_copy[col] = encoder.fit_transform(test[col])\n",
    "    "
   ]
  },
  {
   "cell_type": "code",
   "execution_count": null,
   "metadata": {},
   "outputs": [],
   "source": [
    "train_copy"
   ]
  },
  {
   "cell_type": "code",
   "execution_count": null,
   "metadata": {},
   "outputs": [],
   "source": [
    "test_copy"
   ]
  },
  {
   "cell_type": "code",
   "execution_count": null,
   "metadata": {},
   "outputs": [],
   "source": [
    "# separo la variabile target 'No-show' dalle altre\n",
    "train_y = train_copy[\"No-show\"]\n",
    "train_x = train_copy\n",
    "train_x.drop(\"No-show\", axis=1, inplace=True)\n",
    "# come detto sopra i valori di appointment vengono tolti perchè non influenzano la classificazione\n",
    "\n",
    "train_x.drop(\"AppointmentID\", axis=1, inplace=True)"
   ]
  },
  {
   "cell_type": "code",
   "execution_count": null,
   "metadata": {},
   "outputs": [],
   "source": [
    "train_y"
   ]
  },
  {
   "cell_type": "code",
   "execution_count": null,
   "metadata": {},
   "outputs": [],
   "source": [
    "train_x"
   ]
  },
  {
   "cell_type": "code",
   "execution_count": null,
   "metadata": {},
   "outputs": [],
   "source": [
    "# faccio la stessa cosa per quelli di test \n",
    "\n",
    "test_y = test_copy[\"No-show\"]\n",
    "test_x = test_copy\n",
    "test_x.drop(\"No-show\", axis=1, inplace=True)\n",
    "\n",
    "test_x.drop(\"AppointmentID\", axis=1, inplace=True)"
   ]
  },
  {
   "cell_type": "code",
   "execution_count": null,
   "metadata": {},
   "outputs": [],
   "source": [
    "test_x"
   ]
  },
  {
   "cell_type": "code",
   "execution_count": null,
   "metadata": {},
   "outputs": [],
   "source": [
    "test_y"
   ]
  },
  {
   "cell_type": "code",
   "execution_count": null,
   "metadata": {
    "tags": []
   },
   "outputs": [],
   "source": [
    "from sklearn.linear_model import LogisticRegression\n",
    "\n",
    "# creo e addestro il modello\n",
    "\n",
    "model = LogisticRegression(max_iter=1000)\n",
    "\n",
    "model.fit(train_x, train_y)\n",
    "\n",
    "score = model.score(test_x, test_y)\n",
    "\n",
    "print(score*100)"
   ]
  },
  {
   "cell_type": "code",
   "execution_count": null,
   "metadata": {},
   "outputs": [],
   "source": []
  }
 ],
 "metadata": {
  "language_info": {
   "codemirror_mode": {
    "name": "ipython",
    "version": 3
   },
   "file_extension": ".py",
   "mimetype": "text/x-python",
   "name": "python",
   "nbconvert_exporter": "python",
   "pygments_lexer": "ipython3",
   "version": "3.7.7-final"
  },
  "orig_nbformat": 2,
  "kernelspec": {
   "name": "python37764bit7986b87f52a849ceaa9aca72474e2115",
   "display_name": "Python 3.7.7 64-bit"
  }
 },
 "nbformat": 4,
 "nbformat_minor": 2
}